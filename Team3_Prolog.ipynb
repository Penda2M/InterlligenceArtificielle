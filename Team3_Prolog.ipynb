{
  "nbformat": 4,
  "nbformat_minor": 0,
  "metadata": {
    "colab": {
      "name": "Team3_Prolog.ipynb",
      "provenance": [],
      "collapsed_sections": [],
      "include_colab_link": true
    },
    "kernelspec": {
      "name": "python3",
      "display_name": "Python 3"
    }
  },
  "cells": [
    {
      "cell_type": "markdown",
      "metadata": {
        "id": "view-in-github",
        "colab_type": "text"
      },
      "source": [
        "<a href=\"https://colab.research.google.com/github/Penda2M/InterlligenceArtificielle/blob/master/Team3_Prolog.ipynb\" target=\"_parent\"><img src=\"https://colab.research.google.com/assets/colab-badge.svg\" alt=\"Open In Colab\"/></a>"
      ]
    },
    {
      "cell_type": "code",
      "metadata": {
        "id": "HsBUnwq-46cI",
        "colab_type": "code",
        "colab": {}
      },
      "source": [
        "import nltk\n",
        "import numpy as np\n",
        "import random\n",
        "import matplotlib.pyplot as plt\n",
        "import string # to process standard python strings"
      ],
      "execution_count": 92,
      "outputs": []
    },
    {
      "cell_type": "code",
      "metadata": {
        "id": "ZX7YBOk6Z8y6",
        "colab_type": "code",
        "colab": {
          "base_uri": "https://localhost:8080/",
          "height": 34
        },
        "outputId": "2d0f5c03-449f-4cfd-c28b-166f202ad0c9"
      },
      "source": [
        "nltk.download('popular', quiet=True)\n",
        "nltk.download('nps_chat',quiet=True)\n"
      ],
      "execution_count": 93,
      "outputs": [
        {
          "output_type": "execute_result",
          "data": {
            "text/plain": [
              "True"
            ]
          },
          "metadata": {
            "tags": []
          },
          "execution_count": 93
        }
      ]
    },
    {
      "cell_type": "code",
      "metadata": {
        "id": "G9o3SrTRUOHQ",
        "colab_type": "code",
        "colab": {}
      },
      "source": [
        "plt.rcParams.update({'font.size': 22})"
      ],
      "execution_count": 94,
      "outputs": []
    },
    {
      "cell_type": "code",
      "metadata": {
        "id": "E5kuJ19Q6M3q",
        "colab_type": "code",
        "colab": {}
      },
      "source": [
        " import warnings\n",
        "warnings.filterwarnings('ignore')\n"
      ],
      "execution_count": 95,
      "outputs": []
    },
    {
      "cell_type": "code",
      "metadata": {
        "id": "Qs7uI26JBxfu",
        "colab_type": "code",
        "colab": {
          "base_uri": "https://localhost:8080/",
          "height": 34
        },
        "outputId": "e8577f00-45f2-459b-8ea8-4d5628bd0613"
      },
      "source": [
        "from google.colab import drive\n",
        "\n",
        "# This will prompt for authorization. Click the link and provide the required information.\n",
        "\n",
        "drive.mount('/content/drive')"
      ],
      "execution_count": 96,
      "outputs": [
        {
          "output_type": "stream",
          "text": [
            "Drive already mounted at /content/drive; to attempt to forcibly remount, call drive.mount(\"/content/drive\", force_remount=True).\n"
          ],
          "name": "stdout"
        }
      ]
    },
    {
      "cell_type": "code",
      "metadata": {
        "id": "w-LHJH3l5D-a",
        "colab_type": "code",
        "colab": {
          "base_uri": "https://localhost:8080/",
          "height": 85
        },
        "outputId": "65179cb4-cb41-4044-aad3-6fa56407210c"
      },
      "source": [
        "f=open('/content/drive/My Drive/Colab Notebooks/chatbot.txt','r',errors = 'ignore')\n",
        "raw=f.read()\n",
        "raw=raw.lower()# converts to lowercase\n",
        "nltk.download('punkt') # first-time use only\n",
        "nltk.download('wordnet') # first-time use only\n",
        "sent_tokens = nltk.sent_tokenize(raw)# converts to list of sentences \n",
        "word_tokens = nltk.word_tokenize(raw)# converts to list of words"
      ],
      "execution_count": 97,
      "outputs": [
        {
          "output_type": "stream",
          "text": [
            "[nltk_data] Downloading package punkt to /root/nltk_data...\n",
            "[nltk_data]   Package punkt is already up-to-date!\n",
            "[nltk_data] Downloading package wordnet to /root/nltk_data...\n",
            "[nltk_data]   Package wordnet is already up-to-date!\n"
          ],
          "name": "stdout"
        }
      ]
    },
    {
      "cell_type": "code",
      "metadata": {
        "id": "FXbPScJO8EUJ",
        "colab_type": "code",
        "colab": {
          "base_uri": "https://localhost:8080/",
          "height": 34
        },
        "outputId": "fed65ec2-95e2-4175-a0fb-6e3aba9824a1"
      },
      "source": [
        "sent_tokens[:2]\n",
        "['a chatbot (also known as a talkbot, chatterbot, bot, im bot, interactive agent, or artificial conversational entity) is a computer program or an artificial intelligence which conducts a conversation via auditory or textual methods.',\n",
        " 'such programs are often designed to convincingly simulate how a human would behave as a conversational partner, thereby passing the turing test.']\n",
        "word_tokens[:2]\n",
        "['a', 'chatbot', '(', 'also', 'known']"
      ],
      "execution_count": 98,
      "outputs": [
        {
          "output_type": "execute_result",
          "data": {
            "text/plain": [
              "['a', 'chatbot', '(', 'also', 'known']"
            ]
          },
          "metadata": {
            "tags": []
          },
          "execution_count": 98
        }
      ]
    },
    {
      "cell_type": "code",
      "metadata": {
        "id": "4kaxu3Oj8S6Z",
        "colab_type": "code",
        "colab": {}
      },
      "source": [
        "lemmer = nltk.stem.WordNetLemmatizer()\n",
        "#WordNet is a semantically-oriented dictionary of English included in NLTK.\n",
        "def LemTokens(tokens):\n",
        "    return [lemmer.lemmatize(token) for token in tokens]\n",
        "remove_punct_dict = dict((ord(punct), None) for punct in string.punctuation)\n",
        "def LemNormalize(text):\n",
        "    return LemTokens(nltk.word_tokenize(text.lower().translate(remove_punct_dict)))"
      ],
      "execution_count": 99,
      "outputs": []
    },
    {
      "cell_type": "code",
      "metadata": {
        "id": "0B-G-EgxHOW0",
        "colab_type": "code",
        "colab": {}
      },
      "source": [
        "def prRed(skk): print(\"\\033[91m {}\\033[00m\" .format(skk)) \n",
        "def prGreen(skk): print(\"\\033[92m {}\\033[00m\" .format(skk)) \n",
        "def prYellow(skk): print(\"\\033[93m {}\\033[00m\" .format(skk)) \n",
        "def prLightPurple(skk): print(\"\\033[94m {}\\033[00m\" .format(skk)) \n",
        "def prPurple(skk): print(\"\\033[95m {}\\033[00m\" .format(skk)) \n",
        "def prCyan(skk): print(\"\\033[96m {}\\033[00m\" .format(skk)) \n",
        "def prLightGray(skk): print(\"\\033[97m {}\\033[00m\" .format(skk)) \n",
        "def prBlack(skk): print(\"\\033[98m {}\\033[00m\" .format(skk))\n"
      ],
      "execution_count": 116,
      "outputs": []
    },
    {
      "cell_type": "code",
      "metadata": {
        "id": "HjpwOfpr8aUZ",
        "colab_type": "code",
        "colab": {}
      },
      "source": [
        "GREETING_INPUTS = (\"hello\", \"hi\", \"greetings\", \"sup\", \"what's up\",\"hey\",)\n",
        "GREETING_RESPONSES = [\"hi\", \"hey\", \"*nods*\", \"hi there\", \"hello\", \"I am glad! You are talking to me\"]\n",
        "def greeting(sentence):\n",
        " \n",
        "    for word in sentence.split():\n",
        "        if word.lower() in GREETING_INPUTS:\n",
        "            return random.choice(GREETING_RESPONSES)"
      ],
      "execution_count": 117,
      "outputs": []
    },
    {
      "cell_type": "code",
      "metadata": {
        "id": "3r58SqtS8tvb",
        "colab_type": "code",
        "colab": {}
      },
      "source": [
        "from sklearn.feature_extraction.text import TfidfVectorizer"
      ],
      "execution_count": 118,
      "outputs": []
    },
    {
      "cell_type": "code",
      "metadata": {
        "id": "snlA10cO8zOs",
        "colab_type": "code",
        "colab": {}
      },
      "source": [
        "from sklearn.metrics.pairwise import cosine_similarity"
      ],
      "execution_count": 119,
      "outputs": []
    },
    {
      "cell_type": "code",
      "metadata": {
        "id": "81ZMsAgi9At5",
        "colab_type": "code",
        "colab": {}
      },
      "source": [
        "def response(user_response):\n",
        "    robo_response=''\n",
        "    sent_tokens.append(user_response)\n",
        "    TfidfVec = TfidfVectorizer(tokenizer=LemNormalize, stop_words='english')\n",
        "    tfidf = TfidfVec.fit_transform(sent_tokens)\n",
        "    vals = cosine_similarity(tfidf[-1], tfidf)\n",
        "    idx=vals.argsort()[0][-2]\n",
        "    flat = vals.flatten()\n",
        "    flat.sort()\n",
        "    req_tfidf = flat[-2]\n",
        "    if(req_tfidf==0):\n",
        "        robo_response=robo_response+\"I am sorry! I don't understand you, please send your question again\"\n",
        "        return robo_response\n",
        "    else:\n",
        "        robo_response = robo_response+sent_tokens[idx]\n",
        "        return robo_response"
      ],
      "execution_count": 120,
      "outputs": []
    },
    {
      "cell_type": "code",
      "metadata": {
        "id": "Zi8ILnBH9P92",
        "colab_type": "code",
        "colab": {
          "base_uri": "https://localhost:8080/",
          "height": 496
        },
        "outputId": "99b5e2d7-13fd-4a3f-f46b-6864cfa6f7e3"
      },
      "source": [
        "flag=True\n",
        "prBlack(\"Hello! My name is Team3. I will answer any question you have about Prolog. If you want to exit, type integrally Bye!\")\n",
        "while(flag==True):\n",
        "    \n",
        "    user_response =  input()\n",
        "    print(\"\\033[91m {}\\033[00m\" .format(\"YOU SAID : \"+user_response))\n",
        "    #user_response = input()\n",
        "    #user_response=user_response.lower()\n",
        "    \n",
        "    if(user_response!='bye'):\n",
        "        if(user_response=='thanks' or user_response=='thank you' ):\n",
        "            flag=False\n",
        "            prLightPurple(\"Team3: You are welcome..\")\n",
        "        else:\n",
        "            if(greeting(user_response)!=None):\n",
        "                prLightPurple(\"Team3: \"+greeting(user_response))\n",
        "            else:\n",
        "                print(\"\\033[98m {}\\033[00m\" .format(\" Team3: \",end=\"\"))\n",
        "                prLightPurple(response(user_response))\n",
        "                sent_tokens.remove(user_response)\n",
        "    else:\n",
        "        flag=False\n",
        "        prPurple (\"Team3: Bye! Thanks..\")"
      ],
      "execution_count": 121,
      "outputs": [
        {
          "output_type": "stream",
          "text": [
            "\u001b[98m Hello! My name is Team3. I will answer any question you have about Prolog. If you want to exit, type integrally Bye!\u001b[00m\n",
            "hi\n",
            "\u001b[91m YOU SAID : hi\u001b[00m\n",
            "\u001b[94m Team3: I am glad! You are talking to me\u001b[00m\n",
            "what is prolog?\n",
            "\u001b[91m YOU SAID : what is prolog?\u001b[00m\n",
            "\u001b[98m  Team3: \u001b[00m\n",
            "\u001b[94m * visual prolog, formerly known as pdc prolog and turbo prolog, is astrongly typedobject-orienteddialect of prolog, which is very different from standard prolog.\u001b[00m\n",
            "who had developed it?\n",
            "\u001b[91m YOU SAID : who had developed it?\u001b[00m\n",
            "\u001b[98m  Team3: \u001b[00m\n",
            "\u001b[94m the ideas in planner were later further developed in thescientific community metaphor.\u001b[00m\n",
            "What is the difference between the other languages?\n",
            "\u001b[91m YOU SAID : What is the difference between the other languages?\u001b[00m\n",
            "\u001b[98m  Team3: \u001b[00m\n",
            "\u001b[94m operationally, prolog's execution strategy can be thought of as a generalization of function calls in other languages, one difference being that multiple clause heads can match a given call.\u001b[00m\n",
            "Explain me syntax and semantics\n",
            "\u001b[91m YOU SAID : Explain me syntax and semantics\u001b[00m\n",
            "\u001b[98m  Team3: \u001b[00m\n",
            "\u001b[94m * pilogis a declarative language built on top ofpicolisp, that has the semantics of prolog, but uses the syntax of lisp.\u001b[00m\n",
            "give me prolog limitations\n",
            "\u001b[91m YOU SAID : give me prolog limitations\u001b[00m\n",
            "\u001b[98m  Team3: \u001b[00m\n",
            "\u001b[94m * visual prolog, formerly known as pdc prolog and turbo prolog, is astrongly typedobject-orienteddialect of prolog, which is very different from standard prolog.\u001b[00m\n",
            "bye\n",
            "\u001b[91m YOU SAID : bye\u001b[00m\n",
            "\u001b[95m Team3: Bye! Thanks..\u001b[00m\n"
          ],
          "name": "stdout"
        }
      ]
    }
  ]
}